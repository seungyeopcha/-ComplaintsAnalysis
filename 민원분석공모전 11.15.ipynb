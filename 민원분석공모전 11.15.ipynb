{
 "cells": [
  {
   "cell_type": "code",
   "execution_count": 9,
   "metadata": {},
   "outputs": [
    {
     "name": "stdout",
     "output_type": "stream",
     "text": [
      "Requirement already satisfied: konlpy in c:\\anaconda3\\lib\\site-packages (0.5.2)\n",
      "Requirement already satisfied: numpy>=1.6 in c:\\anaconda3\\lib\\site-packages (from konlpy) (1.20.1)\n",
      "Requirement already satisfied: tweepy>=3.7.0 in c:\\anaconda3\\lib\\site-packages (from konlpy) (3.10.0)\n",
      "Requirement already satisfied: beautifulsoup4==4.6.0 in c:\\anaconda3\\lib\\site-packages (from konlpy) (4.6.0)\n",
      "Requirement already satisfied: colorama in c:\\anaconda3\\lib\\site-packages (from konlpy) (0.4.4)\n",
      "Requirement already satisfied: JPype1>=0.7.0 in c:\\anaconda3\\lib\\site-packages (from konlpy) (1.1.2)\n",
      "Requirement already satisfied: lxml>=4.1.0 in c:\\anaconda3\\lib\\site-packages (from konlpy) (4.6.3)\n",
      "Requirement already satisfied: requests[socks]>=2.11.1 in c:\\anaconda3\\lib\\site-packages (from tweepy>=3.7.0->konlpy) (2.25.1)\n",
      "Requirement already satisfied: six>=1.10.0 in c:\\anaconda3\\lib\\site-packages (from tweepy>=3.7.0->konlpy) (1.15.0)\n",
      "Requirement already satisfied: requests-oauthlib>=0.7.0 in c:\\anaconda3\\lib\\site-packages (from tweepy>=3.7.0->konlpy) (1.3.0)\n",
      "Requirement already satisfied: oauthlib>=3.0.0 in c:\\anaconda3\\lib\\site-packages (from requests-oauthlib>=0.7.0->tweepy>=3.7.0->konlpy) (3.1.1)\n",
      "Requirement already satisfied: certifi>=2017.4.17 in c:\\anaconda3\\lib\\site-packages (from requests[socks]>=2.11.1->tweepy>=3.7.0->konlpy) (2020.12.5)\n",
      "Requirement already satisfied: urllib3<1.27,>=1.21.1 in c:\\anaconda3\\lib\\site-packages (from requests[socks]>=2.11.1->tweepy>=3.7.0->konlpy) (1.26.4)\n",
      "Requirement already satisfied: idna<3,>=2.5 in c:\\anaconda3\\lib\\site-packages (from requests[socks]>=2.11.1->tweepy>=3.7.0->konlpy) (2.10)\n",
      "Requirement already satisfied: chardet<5,>=3.0.2 in c:\\anaconda3\\lib\\site-packages (from requests[socks]>=2.11.1->tweepy>=3.7.0->konlpy) (4.0.0)\n",
      "Requirement already satisfied: PySocks!=1.5.7,>=1.5.6 in c:\\anaconda3\\lib\\site-packages (from requests[socks]>=2.11.1->tweepy>=3.7.0->konlpy) (1.7.1)\n",
      "Note: you may need to restart the kernel to use updated packages.\n"
     ]
    }
   ],
   "source": [
    "pip install konlpy"
   ]
  },
  {
   "cell_type": "code",
   "execution_count": 10,
   "metadata": {
    "scrolled": true
   },
   "outputs": [],
   "source": [
    "import konlpy\n",
    "from konlpy.tag import Kkma\n",
    "kkma = Kkma()\n",
    "from konlpy.tag import Okt\n",
    "okt = Okt()"
   ]
  },
  {
   "cell_type": "code",
   "execution_count": 11,
   "metadata": {},
   "outputs": [],
   "source": [
    "#패키지\n",
    "from matplotlib import font_manager, rc\n",
    "font_name = font_manager.FontProperties(fname=\"c:/Windows/Fonts/malgun.ttf\").get_name()\n",
    "rc('font', family=font_name)\n",
    "import pandas as pd\n",
    "import numpy as np\n",
    "import re\n",
    "import requests\n",
    "from bs4 import BeautifulSoup\n",
    "from collections import Counter"
   ]
  },
  {
   "cell_type": "code",
   "execution_count": 12,
   "metadata": {},
   "outputs": [
    {
     "data": {
      "text/html": [
       "<div>\n",
       "<style scoped>\n",
       "    .dataframe tbody tr th:only-of-type {\n",
       "        vertical-align: middle;\n",
       "    }\n",
       "\n",
       "    .dataframe tbody tr th {\n",
       "        vertical-align: top;\n",
       "    }\n",
       "\n",
       "    .dataframe thead th {\n",
       "        text-align: right;\n",
       "    }\n",
       "</style>\n",
       "<table border=\"1\" class=\"dataframe\">\n",
       "  <thead>\n",
       "    <tr style=\"text-align: right;\">\n",
       "      <th></th>\n",
       "      <th>제목</th>\n",
       "      <th>질문내용</th>\n",
       "      <th>답변내용</th>\n",
       "      <th>등록일시</th>\n",
       "      <th>month</th>\n",
       "      <th>최상위기관명</th>\n",
       "      <th>분야코드</th>\n",
       "      <th>분야명</th>\n",
       "      <th>담당부서명</th>\n",
       "    </tr>\n",
       "  </thead>\n",
       "  <tbody>\n",
       "    <tr>\n",
       "      <th>0</th>\n",
       "      <td>경관위원회 심의대상</td>\n",
       "      <td>경관위원회 심의대상은 무엇입니까?</td>\n",
       "      <td>사회기반시설(길이 50m 이상 교량, 5km 이상 도로개설 또는 확장사업, 1km ...</td>\n",
       "      <td>2021-01-22 오후 2:01:51</td>\n",
       "      <td>1</td>\n",
       "      <td>전라남도 영광군</td>\n",
       "      <td>20010010</td>\n",
       "      <td>행정/자치/안전</td>\n",
       "      <td>도시환경과</td>\n",
       "    </tr>\n",
       "    <tr>\n",
       "      <th>1</th>\n",
       "      <td>허가 또는 신고대상 옥외광고물</td>\n",
       "      <td>옥외광고 허가·신고 대상은 무엇입니까?</td>\n",
       "      <td>1. 허가대상은 벽면이용간판(한변의 길이 10m 이상, 건물 4층 이상층에 설치하\\...</td>\n",
       "      <td>2021-01-22 오후 2:06:01</td>\n",
       "      <td>1</td>\n",
       "      <td>전라남도 영광군</td>\n",
       "      <td>20010010</td>\n",
       "      <td>행정/자치/안전</td>\n",
       "      <td>도시환경과</td>\n",
       "    </tr>\n",
       "    <tr>\n",
       "      <th>2</th>\n",
       "      <td>현수막 설치 신고방법과 게시기간 및 수수료</td>\n",
       "      <td>현수막 설치 신고 방법과 게시기간, 수수료는 어떻게 됩니까?</td>\n",
       "      <td>현수막 게시대가 위치한 해당 읍면사무소에 신고하며, 현수막 게시기간은 장당 10일,...</td>\n",
       "      <td>2021-01-22 오후 2:09:48</td>\n",
       "      <td>1</td>\n",
       "      <td>전라남도 영광군</td>\n",
       "      <td>20010010</td>\n",
       "      <td>행정/자치/안전</td>\n",
       "      <td>도시환경과</td>\n",
       "    </tr>\n",
       "    <tr>\n",
       "      <th>3</th>\n",
       "      <td>배출가스 5등급 차량 지원시책</td>\n",
       "      <td>배출가스 5등급 차량인데 지원시책이 있나요 ?</td>\n",
       "      <td>조기폐차, LPG차 구입, 매연저감장치 부착 등을 지원하고 있으며, 조기폐차는 차량...</td>\n",
       "      <td>2021-01-22 오후 3:00:36</td>\n",
       "      <td>1</td>\n",
       "      <td>전라남도 영광군</td>\n",
       "      <td>20010010</td>\n",
       "      <td>행정/자치/안전</td>\n",
       "      <td>도시환경과</td>\n",
       "    </tr>\n",
       "    <tr>\n",
       "      <th>4</th>\n",
       "      <td>탄소포인트제 정의와 신청방법</td>\n",
       "      <td>탄소포인트제는 무엇이고, 어떻게 신청하나요 ?</td>\n",
       "      <td>탄소포인트제는 가정, 상업, 아파트 단지 등의 전기, 상수도, 도시가스 사용량 절감...</td>\n",
       "      <td>2021-01-22 오후 3:05:30</td>\n",
       "      <td>1</td>\n",
       "      <td>전라남도 영광군</td>\n",
       "      <td>20010010</td>\n",
       "      <td>행정/자치/안전</td>\n",
       "      <td>도시환경과</td>\n",
       "    </tr>\n",
       "  </tbody>\n",
       "</table>\n",
       "</div>"
      ],
      "text/plain": [
       "                        제목                                질문내용  \\\n",
       "0               경관위원회 심의대상                  경관위원회 심의대상은 무엇입니까?   \n",
       "1         허가 또는 신고대상 옥외광고물              옥외광고 허가·신고 대상은 무엇입니까?    \n",
       "2  현수막 설치 신고방법과 게시기간 및 수수료  현수막 설치 신고 방법과 게시기간, 수수료는 어떻게 됩니까?    \n",
       "3         배출가스 5등급 차량 지원시책           배출가스 5등급 차량인데 지원시책이 있나요 ?   \n",
       "4          탄소포인트제 정의와 신청방법           탄소포인트제는 무엇이고, 어떻게 신청하나요 ?   \n",
       "\n",
       "                                                답변내용                   등록일시  \\\n",
       "0  사회기반시설(길이 50m 이상 교량, 5km 이상 도로개설 또는 확장사업, 1km ...  2021-01-22 오후 2:01:51   \n",
       "1  1. 허가대상은 벽면이용간판(한변의 길이 10m 이상, 건물 4층 이상층에 설치하\\...  2021-01-22 오후 2:06:01   \n",
       "2  현수막 게시대가 위치한 해당 읍면사무소에 신고하며, 현수막 게시기간은 장당 10일,...  2021-01-22 오후 2:09:48   \n",
       "3  조기폐차, LPG차 구입, 매연저감장치 부착 등을 지원하고 있으며, 조기폐차는 차량...  2021-01-22 오후 3:00:36   \n",
       "4  탄소포인트제는 가정, 상업, 아파트 단지 등의 전기, 상수도, 도시가스 사용량 절감...  2021-01-22 오후 3:05:30   \n",
       "\n",
       "   month    최상위기관명      분야코드       분야명  담당부서명  \n",
       "0      1  전라남도 영광군  20010010  행정/자치/안전  도시환경과  \n",
       "1      1  전라남도 영광군  20010010  행정/자치/안전  도시환경과  \n",
       "2      1  전라남도 영광군  20010010  행정/자치/안전  도시환경과  \n",
       "3      1  전라남도 영광군  20010010  행정/자치/안전  도시환경과  \n",
       "4      1  전라남도 영광군  20010010  행정/자치/안전  도시환경과  "
      ]
     },
     "execution_count": 12,
     "metadata": {},
     "output_type": "execute_result"
    }
   ],
   "source": [
    "#데이터 불러오기\n",
    "df=pd.read_csv('C:/data/민원1212.csv', encoding = 'cp949')\n",
    "df.head()"
   ]
  },
  {
   "cell_type": "code",
   "execution_count": 13,
   "metadata": {},
   "outputs": [
    {
     "data": {
      "text/html": [
       "<div>\n",
       "<style scoped>\n",
       "    .dataframe tbody tr th:only-of-type {\n",
       "        vertical-align: middle;\n",
       "    }\n",
       "\n",
       "    .dataframe tbody tr th {\n",
       "        vertical-align: top;\n",
       "    }\n",
       "\n",
       "    .dataframe thead th {\n",
       "        text-align: right;\n",
       "    }\n",
       "</style>\n",
       "<table border=\"1\" class=\"dataframe\">\n",
       "  <thead>\n",
       "    <tr style=\"text-align: right;\">\n",
       "      <th></th>\n",
       "      <th>제목</th>\n",
       "      <th>질문내용</th>\n",
       "      <th>답변내용</th>\n",
       "    </tr>\n",
       "  </thead>\n",
       "  <tbody>\n",
       "    <tr>\n",
       "      <th>0</th>\n",
       "      <td>경관위원회 심의대상</td>\n",
       "      <td>경관위원회 심의대상은 무엇입니까?</td>\n",
       "      <td>사회기반시설(길이 50m 이상 교량, 5km 이상 도로개설 또는 확장사업, 1km ...</td>\n",
       "    </tr>\n",
       "    <tr>\n",
       "      <th>1</th>\n",
       "      <td>허가 또는 신고대상 옥외광고물</td>\n",
       "      <td>옥외광고 허가·신고 대상은 무엇입니까?</td>\n",
       "      <td>1. 허가대상은 벽면이용간판(한변의 길이 10m 이상, 건물 4층 이상층에 설치하\\...</td>\n",
       "    </tr>\n",
       "    <tr>\n",
       "      <th>2</th>\n",
       "      <td>현수막 설치 신고방법과 게시기간 및 수수료</td>\n",
       "      <td>현수막 설치 신고 방법과 게시기간, 수수료는 어떻게 됩니까?</td>\n",
       "      <td>현수막 게시대가 위치한 해당 읍면사무소에 신고하며, 현수막 게시기간은 장당 10일,...</td>\n",
       "    </tr>\n",
       "    <tr>\n",
       "      <th>3</th>\n",
       "      <td>배출가스 5등급 차량 지원시책</td>\n",
       "      <td>배출가스 5등급 차량인데 지원시책이 있나요 ?</td>\n",
       "      <td>조기폐차, LPG차 구입, 매연저감장치 부착 등을 지원하고 있으며, 조기폐차는 차량...</td>\n",
       "    </tr>\n",
       "    <tr>\n",
       "      <th>4</th>\n",
       "      <td>탄소포인트제 정의와 신청방법</td>\n",
       "      <td>탄소포인트제는 무엇이고, 어떻게 신청하나요 ?</td>\n",
       "      <td>탄소포인트제는 가정, 상업, 아파트 단지 등의 전기, 상수도, 도시가스 사용량 절감...</td>\n",
       "    </tr>\n",
       "  </tbody>\n",
       "</table>\n",
       "</div>"
      ],
      "text/plain": [
       "                        제목                                질문내용  \\\n",
       "0               경관위원회 심의대상                  경관위원회 심의대상은 무엇입니까?   \n",
       "1         허가 또는 신고대상 옥외광고물              옥외광고 허가·신고 대상은 무엇입니까?    \n",
       "2  현수막 설치 신고방법과 게시기간 및 수수료  현수막 설치 신고 방법과 게시기간, 수수료는 어떻게 됩니까?    \n",
       "3         배출가스 5등급 차량 지원시책           배출가스 5등급 차량인데 지원시책이 있나요 ?   \n",
       "4          탄소포인트제 정의와 신청방법           탄소포인트제는 무엇이고, 어떻게 신청하나요 ?   \n",
       "\n",
       "                                                답변내용  \n",
       "0  사회기반시설(길이 50m 이상 교량, 5km 이상 도로개설 또는 확장사업, 1km ...  \n",
       "1  1. 허가대상은 벽면이용간판(한변의 길이 10m 이상, 건물 4층 이상층에 설치하\\...  \n",
       "2  현수막 게시대가 위치한 해당 읍면사무소에 신고하며, 현수막 게시기간은 장당 10일,...  \n",
       "3  조기폐차, LPG차 구입, 매연저감장치 부착 등을 지원하고 있으며, 조기폐차는 차량...  \n",
       "4  탄소포인트제는 가정, 상업, 아파트 단지 등의 전기, 상수도, 도시가스 사용량 절감...  "
      ]
     },
     "execution_count": 13,
     "metadata": {},
     "output_type": "execute_result"
    }
   ],
   "source": [
    "df1=df[['제목','질문내용','답변내용']]\n",
    "df1.head()"
   ]
  },
  {
   "cell_type": "code",
   "execution_count": 25,
   "metadata": {},
   "outputs": [],
   "source": [
    "x= df1.iloc[:, 0]"
   ]
  },
  {
   "cell_type": "code",
   "execution_count": 26,
   "metadata": {},
   "outputs": [],
   "source": [
    "morph=okt.morphs(x[1])"
   ]
  },
  {
   "cell_type": "code",
   "execution_count": 27,
   "metadata": {},
   "outputs": [],
   "source": [
    "count=Counter(morph)"
   ]
  },
  {
   "cell_type": "code",
   "execution_count": 28,
   "metadata": {},
   "outputs": [
    {
     "data": {
      "text/plain": [
       "Counter({'허가': 1, '또는': 1, '신고': 1, '대상': 1, '옥외광고': 1, '물': 1})"
      ]
     },
     "execution_count": 28,
     "metadata": {},
     "output_type": "execute_result"
    }
   ],
   "source": [
    "count"
   ]
  },
  {
   "cell_type": "code",
   "execution_count": null,
   "metadata": {},
   "outputs": [],
   "source": []
  },
  {
   "cell_type": "code",
   "execution_count": null,
   "metadata": {},
   "outputs": [],
   "source": []
  }
 ],
 "metadata": {
  "kernelspec": {
   "display_name": "Python 3",
   "language": "python",
   "name": "python3"
  },
  "language_info": {
   "codemirror_mode": {
    "name": "ipython",
    "version": 3
   },
   "file_extension": ".py",
   "mimetype": "text/x-python",
   "name": "python",
   "nbconvert_exporter": "python",
   "pygments_lexer": "ipython3",
   "version": "3.7.6"
  }
 },
 "nbformat": 4,
 "nbformat_minor": 5
}
