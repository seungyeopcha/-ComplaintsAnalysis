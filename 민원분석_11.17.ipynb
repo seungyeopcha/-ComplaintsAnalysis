{
 "cells": [
  {
   "cell_type": "code",
   "execution_count": 16,
   "metadata": {},
   "outputs": [],
   "source": [
    "from matplotlib import font_manager, rc\n",
    "\n",
    "font_name = font_manager.FontProperties(fname=\"c:/Windows/Fonts/malgun.ttf\").get_name()\n",
    "rc('font', family=font_name)"
   ]
  },
  {
   "cell_type": "code",
   "execution_count": 17,
   "metadata": {},
   "outputs": [],
   "source": [
    "import pandas as pd\n",
    "import numpy as np"
   ]
  },
  {
   "cell_type": "code",
   "execution_count": 18,
   "metadata": {},
   "outputs": [
    {
     "data": {
      "text/html": [
       "<div>\n",
       "<style scoped>\n",
       "    .dataframe tbody tr th:only-of-type {\n",
       "        vertical-align: middle;\n",
       "    }\n",
       "\n",
       "    .dataframe tbody tr th {\n",
       "        vertical-align: top;\n",
       "    }\n",
       "\n",
       "    .dataframe thead th {\n",
       "        text-align: right;\n",
       "    }\n",
       "</style>\n",
       "<table border=\"1\" class=\"dataframe\">\n",
       "  <thead>\n",
       "    <tr style=\"text-align: right;\">\n",
       "      <th></th>\n",
       "      <th>제목</th>\n",
       "      <th>질문내용</th>\n",
       "      <th>답변내용</th>\n",
       "      <th>등록일시</th>\n",
       "      <th>month</th>\n",
       "      <th>최상위기관명</th>\n",
       "      <th>분야코드</th>\n",
       "      <th>분야명</th>\n",
       "      <th>담당부서명</th>\n",
       "    </tr>\n",
       "  </thead>\n",
       "  <tbody>\n",
       "    <tr>\n",
       "      <th>0</th>\n",
       "      <td>경관위원회 심의대상</td>\n",
       "      <td>경관위원회 심의대상은 무엇입니까?</td>\n",
       "      <td>사회기반시설(길이 50m 이상 교량, 5km 이상 도로개설 또는 확장사업, 1km ...</td>\n",
       "      <td>2021-01-22 오후 2:01:51</td>\n",
       "      <td>1</td>\n",
       "      <td>전라남도 영광군</td>\n",
       "      <td>20010010</td>\n",
       "      <td>행정/자치/안전</td>\n",
       "      <td>도시환경과</td>\n",
       "    </tr>\n",
       "    <tr>\n",
       "      <th>1</th>\n",
       "      <td>허가 또는 신고대상 옥외광고물</td>\n",
       "      <td>옥외광고 허가·신고 대상은 무엇입니까?</td>\n",
       "      <td>1. 허가대상은 벽면이용간판(한변의 길이 10m 이상, 건물 4층 이상층에 설치하\\...</td>\n",
       "      <td>2021-01-22 오후 2:06:01</td>\n",
       "      <td>1</td>\n",
       "      <td>전라남도 영광군</td>\n",
       "      <td>20010010</td>\n",
       "      <td>행정/자치/안전</td>\n",
       "      <td>도시환경과</td>\n",
       "    </tr>\n",
       "    <tr>\n",
       "      <th>2</th>\n",
       "      <td>현수막 설치 신고방법과 게시기간 및 수수료</td>\n",
       "      <td>현수막 설치 신고 방법과 게시기간, 수수료는 어떻게 됩니까?</td>\n",
       "      <td>현수막 게시대가 위치한 해당 읍면사무소에 신고하며, 현수막 게시기간은 장당 10일,...</td>\n",
       "      <td>2021-01-22 오후 2:09:48</td>\n",
       "      <td>1</td>\n",
       "      <td>전라남도 영광군</td>\n",
       "      <td>20010010</td>\n",
       "      <td>행정/자치/안전</td>\n",
       "      <td>도시환경과</td>\n",
       "    </tr>\n",
       "    <tr>\n",
       "      <th>3</th>\n",
       "      <td>배출가스 5등급 차량 지원시책</td>\n",
       "      <td>배출가스 5등급 차량인데 지원시책이 있나요 ?</td>\n",
       "      <td>조기폐차, LPG차 구입, 매연저감장치 부착 등을 지원하고 있으며, 조기폐차는 차량...</td>\n",
       "      <td>2021-01-22 오후 3:00:36</td>\n",
       "      <td>1</td>\n",
       "      <td>전라남도 영광군</td>\n",
       "      <td>20010010</td>\n",
       "      <td>행정/자치/안전</td>\n",
       "      <td>도시환경과</td>\n",
       "    </tr>\n",
       "    <tr>\n",
       "      <th>4</th>\n",
       "      <td>탄소포인트제 정의와 신청방법</td>\n",
       "      <td>탄소포인트제는 무엇이고, 어떻게 신청하나요 ?</td>\n",
       "      <td>탄소포인트제는 가정, 상업, 아파트 단지 등의 전기, 상수도, 도시가스 사용량 절감...</td>\n",
       "      <td>2021-01-22 오후 3:05:30</td>\n",
       "      <td>1</td>\n",
       "      <td>전라남도 영광군</td>\n",
       "      <td>20010010</td>\n",
       "      <td>행정/자치/안전</td>\n",
       "      <td>도시환경과</td>\n",
       "    </tr>\n",
       "  </tbody>\n",
       "</table>\n",
       "</div>"
      ],
      "text/plain": [
       "                        제목                                질문내용  \\\n",
       "0               경관위원회 심의대상                  경관위원회 심의대상은 무엇입니까?   \n",
       "1         허가 또는 신고대상 옥외광고물              옥외광고 허가·신고 대상은 무엇입니까?    \n",
       "2  현수막 설치 신고방법과 게시기간 및 수수료  현수막 설치 신고 방법과 게시기간, 수수료는 어떻게 됩니까?    \n",
       "3         배출가스 5등급 차량 지원시책           배출가스 5등급 차량인데 지원시책이 있나요 ?   \n",
       "4          탄소포인트제 정의와 신청방법           탄소포인트제는 무엇이고, 어떻게 신청하나요 ?   \n",
       "\n",
       "                                                답변내용                   등록일시  \\\n",
       "0  사회기반시설(길이 50m 이상 교량, 5km 이상 도로개설 또는 확장사업, 1km ...  2021-01-22 오후 2:01:51   \n",
       "1  1. 허가대상은 벽면이용간판(한변의 길이 10m 이상, 건물 4층 이상층에 설치하\\...  2021-01-22 오후 2:06:01   \n",
       "2  현수막 게시대가 위치한 해당 읍면사무소에 신고하며, 현수막 게시기간은 장당 10일,...  2021-01-22 오후 2:09:48   \n",
       "3  조기폐차, LPG차 구입, 매연저감장치 부착 등을 지원하고 있으며, 조기폐차는 차량...  2021-01-22 오후 3:00:36   \n",
       "4  탄소포인트제는 가정, 상업, 아파트 단지 등의 전기, 상수도, 도시가스 사용량 절감...  2021-01-22 오후 3:05:30   \n",
       "\n",
       "   month    최상위기관명      분야코드       분야명  담당부서명  \n",
       "0      1  전라남도 영광군  20010010  행정/자치/안전  도시환경과  \n",
       "1      1  전라남도 영광군  20010010  행정/자치/안전  도시환경과  \n",
       "2      1  전라남도 영광군  20010010  행정/자치/안전  도시환경과  \n",
       "3      1  전라남도 영광군  20010010  행정/자치/안전  도시환경과  \n",
       "4      1  전라남도 영광군  20010010  행정/자치/안전  도시환경과  "
      ]
     },
     "execution_count": 18,
     "metadata": {},
     "output_type": "execute_result"
    }
   ],
   "source": [
    "data = pd.read_csv('C:/data/민원1212.csv', encoding = 'cp949')\n",
    "data.head()"
   ]
  },
  {
   "cell_type": "code",
   "execution_count": 19,
   "metadata": {},
   "outputs": [
    {
     "data": {
      "text/plain": [
       "행정/자치/안전       2190\n",
       "교육/문화/체육/관광    1380\n",
       "산업/방송/통신/과학     748\n",
       "식품의약품           706\n",
       "국토/교통/농림/해양     463\n",
       "국방/보훈/외교/통일     260\n",
       "재정/금융/소비자       215\n",
       "기타               62\n",
       "법제/사법            31\n",
       "노동/환경            11\n",
       "Name: 분야명, dtype: int64"
      ]
     },
     "execution_count": 19,
     "metadata": {},
     "output_type": "execute_result"
    }
   ],
   "source": [
    "data['분야명'].value_counts()"
   ]
  },
  {
   "cell_type": "code",
   "execution_count": 20,
   "metadata": {},
   "outputs": [
    {
     "data": {
      "text/plain": [
       "0    경관위원회 심의대상은 무엇입니까?\\n사회기반시설(길이 50m 이상 교량, 5km 이...\n",
       "1    옥외광고 허가·신고 대상은 무엇입니까? \\n1. 허가대상은 벽면이용간판(한변의 길이...\n",
       "2    현수막 설치 신고 방법과 게시기간, 수수료는 어떻게 됩니까? \\n현수막 게시대가 위...\n",
       "3    배출가스 5등급 차량인데 지원시책이 있나요 ?\\n조기폐차, LPG차 구입, 매연저감...\n",
       "4    탄소포인트제는 무엇이고, 어떻게 신청하나요 ?\\n탄소포인트제는 가정, 상업, 아파트...\n",
       "Name: contents, dtype: object"
      ]
     },
     "execution_count": 20,
     "metadata": {},
     "output_type": "execute_result"
    }
   ],
   "source": [
    "data['contents'] = data.apply(lambda x:str(x['질문내용'])+'\\n'+str(x['답변내용']), axis=1)\n",
    "data['contents'].head()"
   ]
  },
  {
   "cell_type": "code",
   "execution_count": 21,
   "metadata": {},
   "outputs": [],
   "source": [
    "import pandas as pd\n",
    "import numpy as np\n",
    "import regex\n",
    "import re\n",
    "import gensim"
   ]
  },
  {
   "cell_type": "code",
   "execution_count": 22,
   "metadata": {},
   "outputs": [],
   "source": [
    "from PyKomoran import *"
   ]
  },
  {
   "cell_type": "code",
   "execution_count": 23,
   "metadata": {},
   "outputs": [
    {
     "name": "stdout",
     "output_type": "stream",
     "text": [
      "C:\\Users\\user\n"
     ]
    }
   ],
   "source": [
    "import os\n",
    "print(os.getcwd())"
   ]
  },
  {
   "cell_type": "code",
   "execution_count": 24,
   "metadata": {},
   "outputs": [
    {
     "ename": "FileNotFoundError",
     "evalue": "[WinError 2] 지정된 파일을 찾을 수 없습니다",
     "output_type": "error",
     "traceback": [
      "\u001b[1;31m---------------------------------------------------------------------------\u001b[0m",
      "\u001b[1;31mFileNotFoundError\u001b[0m                         Traceback (most recent call last)",
      "\u001b[1;32m<ipython-input-24-c148a13c8346>\u001b[0m in \u001b[0;36m<module>\u001b[1;34m\u001b[0m\n\u001b[1;32m----> 1\u001b[1;33m \u001b[0mkomoran\u001b[0m \u001b[1;33m=\u001b[0m \u001b[0mKomoran\u001b[0m\u001b[1;33m(\u001b[0m\u001b[1;34m'STABLE'\u001b[0m\u001b[1;33m)\u001b[0m\u001b[1;33m\u001b[0m\u001b[1;33m\u001b[0m\u001b[0m\n\u001b[0m",
      "\u001b[1;32mC:\\Anaconda3\\lib\\site-packages\\PyKomoran\\core.py\u001b[0m in \u001b[0;36m__init__\u001b[1;34m(self, model_path, max_heap)\u001b[0m\n\u001b[0;32m     49\u001b[0m         \u001b[0mself\u001b[0m\u001b[1;33m.\u001b[0m\u001b[0mpos_table\u001b[0m \u001b[1;33m=\u001b[0m \u001b[0mPos\u001b[0m\u001b[1;33m(\u001b[0m\u001b[1;33m)\u001b[0m\u001b[1;33m\u001b[0m\u001b[1;33m\u001b[0m\u001b[0m\n\u001b[0;32m     50\u001b[0m \u001b[1;33m\u001b[0m\u001b[0m\n\u001b[1;32m---> 51\u001b[1;33m         \u001b[0mjvm\u001b[0m\u001b[1;33m.\u001b[0m\u001b[0minit_jvm\u001b[0m\u001b[1;33m(\u001b[0m\u001b[0mmax_heap\u001b[0m\u001b[1;33m)\u001b[0m\u001b[1;33m\u001b[0m\u001b[1;33m\u001b[0m\u001b[0m\n\u001b[0m\u001b[0;32m     52\u001b[0m         \u001b[0mself\u001b[0m\u001b[1;33m.\u001b[0m\u001b[0m_komoran\u001b[0m \u001b[1;33m=\u001b[0m \u001b[0mjvm\u001b[0m\u001b[1;33m.\u001b[0m\u001b[0mget_jvm\u001b[0m\u001b[1;33m(\u001b[0m\u001b[1;33m)\u001b[0m\u001b[1;33m.\u001b[0m\u001b[0mkr\u001b[0m\u001b[1;33m.\u001b[0m\u001b[0mco\u001b[0m\u001b[1;33m.\u001b[0m\u001b[0mshineware\u001b[0m\u001b[1;33m.\u001b[0m\u001b[0mnlp\u001b[0m\u001b[1;33m.\u001b[0m\u001b[0mpykomoran\u001b[0m\u001b[1;33m.\u001b[0m\u001b[0mKomoranEntryPoint\u001b[0m\u001b[1;33m(\u001b[0m\u001b[1;33m)\u001b[0m\u001b[1;33m\u001b[0m\u001b[1;33m\u001b[0m\u001b[0m\n\u001b[0;32m     53\u001b[0m \u001b[1;33m\u001b[0m\u001b[0m\n",
      "\u001b[1;32mC:\\Anaconda3\\lib\\site-packages\\PyKomoran\\jvm.py\u001b[0m in \u001b[0;36minit_jvm\u001b[1;34m(max_heap, jar_path)\u001b[0m\n\u001b[0;32m     40\u001b[0m     \u001b[0mpy4j_path\u001b[0m \u001b[1;33m=\u001b[0m \u001b[1;34m\"{0}{1}py4j-0.10.9.2.jar\"\u001b[0m\u001b[1;33m.\u001b[0m\u001b[0mformat\u001b[0m\u001b[1;33m(\u001b[0m\u001b[0mjar_path\u001b[0m\u001b[1;33m,\u001b[0m \u001b[0mos\u001b[0m\u001b[1;33m.\u001b[0m\u001b[0msep\u001b[0m\u001b[1;33m)\u001b[0m\u001b[1;33m\u001b[0m\u001b[1;33m\u001b[0m\u001b[0m\n\u001b[0;32m     41\u001b[0m \u001b[1;33m\u001b[0m\u001b[0m\n\u001b[1;32m---> 42\u001b[1;33m     port = launch_gateway(jarpath=py4j_path,\n\u001b[0m\u001b[0;32m     43\u001b[0m                           \u001b[0mclasspath\u001b[0m\u001b[1;33m=\u001b[0m\u001b[0mclasspath\u001b[0m\u001b[1;33m,\u001b[0m\u001b[1;33m\u001b[0m\u001b[1;33m\u001b[0m\u001b[0m\n\u001b[0;32m     44\u001b[0m                           \u001b[0mjavaopts\u001b[0m\u001b[1;33m=\u001b[0m\u001b[1;33m[\u001b[0m\u001b[1;34m'-Dfile.encoding=UTF8'\u001b[0m\u001b[1;33m,\u001b[0m \u001b[1;34m'-ea'\u001b[0m\u001b[1;33m,\u001b[0m \u001b[1;34m'-Xmx{}m'\u001b[0m\u001b[1;33m.\u001b[0m\u001b[0mformat\u001b[0m\u001b[1;33m(\u001b[0m\u001b[0mmax_heap\u001b[0m\u001b[1;33m)\u001b[0m\u001b[1;33m]\u001b[0m\u001b[1;33m,\u001b[0m\u001b[1;33m\u001b[0m\u001b[1;33m\u001b[0m\u001b[0m\n",
      "\u001b[1;32mC:\\Anaconda3\\lib\\site-packages\\py4j\\java_gateway.py\u001b[0m in \u001b[0;36mlaunch_gateway\u001b[1;34m(port, jarpath, classpath, javaopts, die_on_exit, redirect_stdout, redirect_stderr, daemonize_redirect, java_path, create_new_process_group, enable_auth, cwd, return_proc, use_shell)\u001b[0m\n\u001b[0;32m    329\u001b[0m \u001b[1;33m\u001b[0m\u001b[0m\n\u001b[0;32m    330\u001b[0m     \u001b[0mpopen_kwargs\u001b[0m\u001b[1;33m[\u001b[0m\u001b[1;34m\"shell\"\u001b[0m\u001b[1;33m]\u001b[0m \u001b[1;33m=\u001b[0m \u001b[0muse_shell\u001b[0m\u001b[1;33m\u001b[0m\u001b[1;33m\u001b[0m\u001b[0m\n\u001b[1;32m--> 331\u001b[1;33m     proc = Popen(\n\u001b[0m\u001b[0;32m    332\u001b[0m         \u001b[0mcommand\u001b[0m\u001b[1;33m,\u001b[0m \u001b[0mstdout\u001b[0m\u001b[1;33m=\u001b[0m\u001b[0mPIPE\u001b[0m\u001b[1;33m,\u001b[0m \u001b[0mstdin\u001b[0m\u001b[1;33m=\u001b[0m\u001b[0mPIPE\u001b[0m\u001b[1;33m,\u001b[0m \u001b[0mstderr\u001b[0m\u001b[1;33m=\u001b[0m\u001b[0mstderr\u001b[0m\u001b[1;33m,\u001b[0m \u001b[0mcwd\u001b[0m\u001b[1;33m=\u001b[0m\u001b[0mcwd\u001b[0m\u001b[1;33m,\u001b[0m\u001b[1;33m\u001b[0m\u001b[1;33m\u001b[0m\u001b[0m\n\u001b[0;32m    333\u001b[0m         **popen_kwargs)\n",
      "\u001b[1;32mC:\\Anaconda3\\lib\\subprocess.py\u001b[0m in \u001b[0;36m__init__\u001b[1;34m(self, args, bufsize, executable, stdin, stdout, stderr, preexec_fn, close_fds, shell, cwd, env, universal_newlines, startupinfo, creationflags, restore_signals, start_new_session, pass_fds, encoding, errors, text)\u001b[0m\n\u001b[0;32m    856\u001b[0m                             encoding=encoding, errors=errors)\n\u001b[0;32m    857\u001b[0m \u001b[1;33m\u001b[0m\u001b[0m\n\u001b[1;32m--> 858\u001b[1;33m             self._execute_child(args, executable, preexec_fn, close_fds,\n\u001b[0m\u001b[0;32m    859\u001b[0m                                 \u001b[0mpass_fds\u001b[0m\u001b[1;33m,\u001b[0m \u001b[0mcwd\u001b[0m\u001b[1;33m,\u001b[0m \u001b[0menv\u001b[0m\u001b[1;33m,\u001b[0m\u001b[1;33m\u001b[0m\u001b[1;33m\u001b[0m\u001b[0m\n\u001b[0;32m    860\u001b[0m                                 \u001b[0mstartupinfo\u001b[0m\u001b[1;33m,\u001b[0m \u001b[0mcreationflags\u001b[0m\u001b[1;33m,\u001b[0m \u001b[0mshell\u001b[0m\u001b[1;33m,\u001b[0m\u001b[1;33m\u001b[0m\u001b[1;33m\u001b[0m\u001b[0m\n",
      "\u001b[1;32mC:\\Anaconda3\\lib\\subprocess.py\u001b[0m in \u001b[0;36m_execute_child\u001b[1;34m(self, args, executable, preexec_fn, close_fds, pass_fds, cwd, env, startupinfo, creationflags, shell, p2cread, p2cwrite, c2pread, c2pwrite, errread, errwrite, unused_restore_signals, unused_start_new_session)\u001b[0m\n\u001b[0;32m   1309\u001b[0m             \u001b[1;31m# Start the process\u001b[0m\u001b[1;33m\u001b[0m\u001b[1;33m\u001b[0m\u001b[1;33m\u001b[0m\u001b[0m\n\u001b[0;32m   1310\u001b[0m             \u001b[1;32mtry\u001b[0m\u001b[1;33m:\u001b[0m\u001b[1;33m\u001b[0m\u001b[1;33m\u001b[0m\u001b[0m\n\u001b[1;32m-> 1311\u001b[1;33m                 hp, ht, pid, tid = _winapi.CreateProcess(executable, args,\n\u001b[0m\u001b[0;32m   1312\u001b[0m                                          \u001b[1;31m# no special security\u001b[0m\u001b[1;33m\u001b[0m\u001b[1;33m\u001b[0m\u001b[1;33m\u001b[0m\u001b[0m\n\u001b[0;32m   1313\u001b[0m                                          \u001b[1;32mNone\u001b[0m\u001b[1;33m,\u001b[0m \u001b[1;32mNone\u001b[0m\u001b[1;33m,\u001b[0m\u001b[1;33m\u001b[0m\u001b[1;33m\u001b[0m\u001b[0m\n",
      "\u001b[1;31mFileNotFoundError\u001b[0m: [WinError 2] 지정된 파일을 찾을 수 없습니다"
     ]
    }
   ],
   "source": [
    "komoran = Komoran('STABLE')"
   ]
  },
  {
   "cell_type": "code",
   "execution_count": 9,
   "metadata": {},
   "outputs": [],
   "source": [
    "from tqdm import tqdm\n",
    "tqdm.pandas()\n",
    "import pickle\n",
    "import seaborn\n",
    "import matplotlib as mpl\n",
    "import matplotlib.pyplot as plt\n"
   ]
  },
  {
   "cell_type": "code",
   "execution_count": 43,
   "metadata": {},
   "outputs": [],
   "source": [
    "punc = '[!\"#$%&\\'()*+,-./:;<=>?[\\]^_`{|}~“”·]'\n",
    "def cleanText(readData):\n",
    "    text = re.sub(punc,\"\", readData).strip( )\n",
    "    return text"
   ]
  },
  {
   "cell_type": "code",
   "execution_count": 32,
   "metadata": {},
   "outputs": [],
   "source": [
    "def morp(strings):\n",
    "    return [w.get_first()+'다' if w.get_second() in ['VV','VA'] else w.get_first() for w in komoran.\n",
    "get_list(cleanText(strings)) if w.get_second() in ['NNP','NNG','MAG','VA','VV','MM']]"
   ]
  },
  {
   "cell_type": "code",
   "execution_count": 44,
   "metadata": {},
   "outputs": [
    {
     "data": {
      "text/plain": [
       "['혼잡', '강변북로', '달리다']"
      ]
     },
     "execution_count": 44,
     "metadata": {},
     "output_type": "execute_result"
    }
   ],
   "source": [
    "morp('혼잡스러운 강변북로를 달리다.')"
   ]
  },
  {
   "cell_type": "code",
   "execution_count": 48,
   "metadata": {},
   "outputs": [
    {
     "name": "stderr",
     "output_type": "stream",
     "text": [
      "100%|███████████████████████████████████████████████████████████████████████████| 28862/28862 [02:48<00:00, 171.25it/s]\n"
     ]
    }
   ],
   "source": [
    "data['질문_token'] = data['질문내용'].progress_map(lambda x:morp(x))"
   ]
  },
  {
   "cell_type": "code",
   "execution_count": 46,
   "metadata": {},
   "outputs": [
    {
     "name": "stderr",
     "output_type": "stream",
     "text": [
      "100%|████████████████████████████████████████████████████████████████████████████| 28862/28862 [20:32<00:00, 23.42it/s]\n"
     ]
    }
   ],
   "source": [
    "data['tokens'] = data['contents'].progress_map(lambda x:morp(x))"
   ]
  },
  {
   "cell_type": "code",
   "execution_count": 47,
   "metadata": {},
   "outputs": [
    {
     "data": {
      "text/plain": [
       "0    [청소년, 보호법, 위반, 사실, 신고, 따르다, 청소년, 유해, 환경, 신고, 포...\n",
       "1    [영동군, 공립, 공공, 도서관, 운영, 현황, 도서관, 서비스, 대하다, 알려주다...\n",
       "2    [영동군, 청소년, 수련, 시설, 대하다, 문의, 드리다, 가정, 평안, 기원, 문...\n",
       "3    [조상, 땅, 찾다, 신청, 방법, 신청, 자격, 배우자, 또는, 직계, 존비속, ...\n",
       "4    [토지, 이동, 신청, 방법, 토지, 이동, 대상, 신규, 등록, 등록, 전환, 분...\n",
       "Name: tokens, dtype: object"
      ]
     },
     "execution_count": 47,
     "metadata": {},
     "output_type": "execute_result"
    }
   ],
   "source": [
    "data['tokens'].head()"
   ]
  },
  {
   "cell_type": "code",
   "execution_count": 49,
   "metadata": {},
   "outputs": [
    {
     "data": {
      "text/plain": [
       "0    [청소년, 보호법, 위반, 사실, 신고, 따르다, 청소년, 유해, 환경, 신고, 포...\n",
       "1      [영동군, 공립, 공공, 도서관, 운영, 현황, 도서관, 서비스, 대하다, 알려주다]\n",
       "2                     [영동군, 청소년, 수련, 시설, 대하다, 문의, 드리다]\n",
       "3                                  [조상, 땅, 찾다, 신청, 방법]\n",
       "4                                     [토지, 이동, 신청, 방법]\n",
       "5    [가설, 건축물, 축조, 신고, 대하다, 문의, 농지, 전답, 농막, 설치, 가설,...\n",
       "6                               [불법, 광고물, 과태료, 처리, 과정]\n",
       "7                    [농촌, 주택, 개량, 사업, 신청, 자격, 절차, 대하다]\n",
       "8                [부동산, 소유, 이전, 등기, 관하다, 특별조치법, 신청, 방법]\n",
       "9                [아이, 돌보다, 지원, 사업, 이용, 대상, 및, 문의처, 안내]\n",
       "Name: 질문_token, dtype: object"
      ]
     },
     "execution_count": 49,
     "metadata": {},
     "output_type": "execute_result"
    }
   ],
   "source": [
    "data['질문_token'].head(10)"
   ]
  },
  {
   "cell_type": "code",
   "execution_count": 86,
   "metadata": {},
   "outputs": [],
   "source": [
    "stopwords = ['하다','있다','되다','어떻게','받다','경우','대하다','알다','가능','어떻게 되다','없다','관련','어떤',\n",
    "'사용','변경','기준','필요','대상','어떻게 하다','위하다','드리다','보다','이용','확인','운영','내용','문의','알려주다',\n",
    "'요청','정보','같다','해당','사항','여부','하다 하다','받다 있다','하다 있다','현재','가다','따르다','발생','부탁드리다',\n",
    "'시간','많다','또는','이상','다른','신고하다','개인','바라다','관하다','문의 드리다','인하다','답변','발급 받다','조치',\n",
    "'다른','대하다 알다','행위','적용','규정','진행','행정','과정','업무','좋다','상황','신청 하다','하다 되다','생각','들다',\n",
    "'너무','오다','생활','알다 있다','포함','활동','종류','통하다','없이','이유','되다 있다','살다','맞다','하다 경우','부분',\n",
    "'다니다','상태','많이','내용 알다','이런','계속','정도','표시','받다 하다','어떤 있다','대하다 알려주다','걸다','크다',\n",
    "'제공','또한','감사','이전','의하다','추가','쓰다','어렵다','모르다','언제','하다 어떻게','지금','이후','질문','직접','있다 경우',\n",
    "'대하다 문의','이렇게','보이다','모두','같이','가지다','있다 하다','만들다','어느','얼마','지나다','다르다','찾다','기존',\n",
    "'여러','있다 방법','올해','모든','경우 어떻게','이번','일부','나다','보내다','이루어지다','목적','지원 받다','생기다',\n",
    "'홈페이지','답변 부탁드립니다','넣다','힘들다','두다','방법 있다','올리다','알리다','내다','이하','있다 알다','들어가다',\n",
    "'만약','도움','절차 대하다','시작','안녕','안녕하세요','빠르다','보다 있다','사용 있다','혹시','최근','차이','의미','함께',\n",
    "'그렇다','기본','받다 어떻게','아직','이동','방법 대하다','안되다','반드시','작년','확인 있다','기능','요청드리다','정하다',\n",
    "'자체','동안','하다 없다','숫자','얼마나','들어오다','나가다','작다','가요','아래','하다 어떤','매우','담당','받다 경우','인근',\n",
    "'의견','운영 있다','우선','무슨','작다','가요','거치다','단위','이내','이용 있다','걸리다','당하다','실제','근처','방법 없다',\n",
    "'전혀','일자','되다 알다','있다 여부','사항 있다','바뀌다','알려주다 바라다','되다 하다','입다','부탁 드리다','조금',\n",
    "'열다','경기도','충청북도','부산','높다','살다 있다','미만','혹은','변경 하다','우려','각각','아래', '상상', '제안', '까지', '닷컴', '포털', '사이트', '천만', '오아시스', '이벤트', '접수',\n",
    " '서울시','서울','특별시', '천만상상', '파일', '첨부', '응모', '슬로건', '공모', '공모전', '응모전',\n",
    " '신청','경우','때문','정도','사항', '해당', '겁니다', '이것', '저것', '그것', '돋움', '신명', '태명',\n",
    " '한컴', '돋움', '동안', '거기', '저기', '여기', '대부분', '누구', '무엇', '고딕', '만큼', '굴림',\n",
    " '감사', '건지', '텐데', '안녕', '안녕하세요', '이번', '걸로', '수고', '겁니까', '그간', '그건',\n",
    " '그때', '글쓴이', '누가', '니다', '다면', '뭔가', '상상오아시스', '하다', '이다', '되다', '같다',\n",
    " '궁','자체','서체','정','서','이','을','있다','없다', '체','관련', '생각', '현재', '진행', '사람', '마음',\n",
    " '남산', '내용', '현실', '음', '막', '김', '변', '조', '오', '참', '동', '지금', '주변', '대상', '부분',\n",
    " '요즘', '하루', '마련', '시간', '이상', '행위', '활동', '구분', '사실', '과정', '모습', '기간', '선정',\n",
    " '단지', '자신', '발생', '지역', '기대', '마련', '장소', '모두', '부탁', '제공', '이용', '해주', '당시',\n",
    " '최근', '민원', '문제', '문제점', '현황', '개선', '방안', '문의', '답변', '일동', '요청', '담당자',\n",
    " '직원', '방법', '사용', '활용', '확인', '방식', '예전', '안녕하십니까', '이하', '바로 가기',\n",
    " '바로가기','제가']"
   ]
  },
  {
   "cell_type": "code",
   "execution_count": 87,
   "metadata": {},
   "outputs": [],
   "source": [
    "data['질문_token'] = data['질문_token'].map(lambda x:[w for w in x if not w in stopwords])"
   ]
  },
  {
   "cell_type": "code",
   "execution_count": 88,
   "metadata": {},
   "outputs": [],
   "source": [
    "import pandas as pd\n",
    "import numpy as np\n",
    "from sklearn.feature_extraction.text import TfidfTransformer\n",
    "from sklearn.feature_extraction.text import CountVectorizer\n",
    "from sklearn.feature_extraction.text import TfidfVectorizer"
   ]
  },
  {
   "cell_type": "code",
   "execution_count": 89,
   "metadata": {},
   "outputs": [],
   "source": [
    "tf_vectorizer = CountVectorizer(analyzer='word',\n",
    "                                lowercase=False,\n",
    "                                tokenizer=None,\n",
    "                                preprocessor=None,\n",
    "                                min_df=5,\n",
    "                                ngram_range=(1,2)\n",
    "                                )"
   ]
  },
  {
   "cell_type": "code",
   "execution_count": 90,
   "metadata": {},
   "outputs": [],
   "source": [
    "tf_vector = tf_vectorizer.fit_transform(data['질문_token'].astype(str))"
   ]
  },
  {
   "cell_type": "code",
   "execution_count": 91,
   "metadata": {},
   "outputs": [],
   "source": [
    "tf_scores = tf_vector.toarray().sum(axis=0)\n",
    "tf_idx = np.argsort(-tf_scores)\n",
    "tf_scores = tf_scores[tf_idx]\n",
    "tf_vocab = np.array(tf_vectorizer.get_feature_names())[tf_idx]"
   ]
  },
  {
   "cell_type": "code",
   "execution_count": 92,
   "metadata": {},
   "outputs": [
    {
     "name": "stdout",
     "output_type": "stream",
     "text": [
      "[('신고', 3347), ('학교', 2152), ('등록', 1920), ('발급', 1827), ('절차', 1679), ('사업', 1673), ('지원', 1489), ('시설', 1408), ('교육', 1295), ('설치', 1234), ('처리', 1231), ('서류', 1116), ('관리', 1116), ('공사', 1056), ('허가', 987), ('선박', 858), ('안전', 815), ('학생', 793), ('사업자', 757), ('주택', 756), ('항만', 708), ('차량', 685), ('아이', 679), ('불법', 675), ('증명서', 656), ('해양', 628), ('지급', 625), ('아파트', 620), ('제출', 608), ('기관', 599), ('어업', 573), ('계획', 555), ('도로', 548), ('자격', 536), ('안내', 533), ('코로나', 514), ('검사', 513), ('위반', 505), ('여권', 492), ('가족', 483), ('한국', 478), ('외국인', 471), ('계약', 466), ('구역', 466), ('주민', 465), ('개발', 462), ('소득', 459), ('주차', 453), ('유치원', 448), ('나오다', 447), ('자녀', 446), ('납부', 436), ('초등학교', 431), ('위원회', 430), ('일반', 428), ('근무', 426), ('도서관', 424), ('방송', 421), ('단속', 421), ('판매', 417), ('환경', 409), ('보호', 407), ('센터', 405), ('표지', 404), ('업체', 401), ('구비서류', 398), ('금액', 397), ('비자', 394), ('제한', 393), ('자동차', 393), ('인정', 391), ('번호', 388), ('회사', 388), ('지정', 387), ('금지', 385), ('거주', 384), ('시행', 379), ('서비스', 373), ('학원', 370), ('의무', 370), ('공개', 368), ('발표', 366), ('피해', 366), ('자료', 360), ('본인', 359), ('방문', 357), ('평가', 357), ('공무원', 355), ('경력', 355), ('결과', 355), ('항로', 354), ('현장', 354), ('관계', 353), ('전기', 353), ('국가', 340), ('제도', 336), ('사진', 335), ('건축물', 335), ('사고', 333), ('불편', 332), ('법인', 332), ('교사', 330), ('요건', 329), ('부과', 328), ('다시', 328), ('면허', 328), ('항로 표지', 328), ('건물', 328), ('중학교', 327), ('조사', 326), ('실시', 325), ('세부', 320), ('어선', 318), ('학년', 316), ('소득세', 316), ('위험', 315), ('취득', 314), ('승인', 313), ('범위', 310), ('장애인', 306), ('카드', 305), ('교육청', 304), ('세금', 301), ('청구', 301), ('대상자', 296), ('공동', 295), ('임대', 294), ('입학', 289), ('현금', 289), ('버스', 287), ('위치', 286), ('과태료', 283), ('주민등록', 279), ('영업', 279), ('근로', 278), ('쓰레기', 275), ('인터넷', 275), ('토지', 275), ('처분', 273), ('사회', 271), ('전입', 270), ('해외', 268), ('예정', 268), ('복무', 268), ('수업', 267), ('인증', 266), ('증명서 발급', 262), ('급여', 259), ('배정', 259), ('시험', 257), ('참여', 254), ('건설', 253), ('전화', 252), ('공원', 250), ('연금', 249), ('연장', 249), ('학부모', 249), ('식품', 246), ('훈련', 243), ('국적', 242), ('시민', 241), ('부동산', 241), ('세대', 240), ('주차장', 240), ('거래', 238), ('시기', 238), ('작성', 237), ('주소', 235), ('기술', 232), ('교습', 232), ('수당', 231), ('공제', 230), ('건축', 230), ('종합', 230), ('가입', 228), ('지방', 228), ('신규', 227), ('질의', 227), ('국내', 223), ('재산', 223), ('위탁', 221), ('국민', 220), ('처벌', 220), ('부모', 219), ('법률', 219), ('프로그램', 219), ('사업자 등록', 218), ('조건', 218), ('준비', 216), ('사유', 216), ('교원', 216), ('폐기물', 216), ('폭력', 216), ('대출', 214), ('교실', 213), ('복지', 213), ('수산', 213), ('점검', 213), ('광고', 213), ('기재', 213)]\n"
     ]
    }
   ],
   "source": [
    "print(list(zip(tf_vocab, tf_scores))[:500])"
   ]
  },
  {
   "cell_type": "code",
   "execution_count": 94,
   "metadata": {},
   "outputs": [
    {
     "data": {
      "text/html": [
       "<div>\n",
       "<style scoped>\n",
       "    .dataframe tbody tr th:only-of-type {\n",
       "        vertical-align: middle;\n",
       "    }\n",
       "\n",
       "    .dataframe tbody tr th {\n",
       "        vertical-align: top;\n",
       "    }\n",
       "\n",
       "    .dataframe thead th {\n",
       "        text-align: right;\n",
       "    }\n",
       "</style>\n",
       "<table border=\"1\" class=\"dataframe\">\n",
       "  <thead>\n",
       "    <tr style=\"text-align: right;\">\n",
       "      <th></th>\n",
       "      <th>0</th>\n",
       "      <th>1</th>\n",
       "    </tr>\n",
       "  </thead>\n",
       "  <tbody>\n",
       "    <tr>\n",
       "      <th>0</th>\n",
       "      <td>신고</td>\n",
       "      <td>3347</td>\n",
       "    </tr>\n",
       "    <tr>\n",
       "      <th>1</th>\n",
       "      <td>학교</td>\n",
       "      <td>2152</td>\n",
       "    </tr>\n",
       "    <tr>\n",
       "      <th>2</th>\n",
       "      <td>등록</td>\n",
       "      <td>1920</td>\n",
       "    </tr>\n",
       "    <tr>\n",
       "      <th>3</th>\n",
       "      <td>발급</td>\n",
       "      <td>1827</td>\n",
       "    </tr>\n",
       "    <tr>\n",
       "      <th>4</th>\n",
       "      <td>절차</td>\n",
       "      <td>1679</td>\n",
       "    </tr>\n",
       "    <tr>\n",
       "      <th>...</th>\n",
       "      <td>...</td>\n",
       "      <td>...</td>\n",
       "    </tr>\n",
       "    <tr>\n",
       "      <th>495</th>\n",
       "      <td>교도소</td>\n",
       "      <td>110</td>\n",
       "    </tr>\n",
       "    <tr>\n",
       "      <th>496</th>\n",
       "      <td>협의</td>\n",
       "      <td>110</td>\n",
       "    </tr>\n",
       "    <tr>\n",
       "      <th>497</th>\n",
       "      <td>특별</td>\n",
       "      <td>110</td>\n",
       "    </tr>\n",
       "    <tr>\n",
       "      <th>498</th>\n",
       "      <td>수행</td>\n",
       "      <td>110</td>\n",
       "    </tr>\n",
       "    <tr>\n",
       "      <th>499</th>\n",
       "      <td>정의</td>\n",
       "      <td>109</td>\n",
       "    </tr>\n",
       "  </tbody>\n",
       "</table>\n",
       "<p>500 rows × 2 columns</p>\n",
       "</div>"
      ],
      "text/plain": [
       "       0     1\n",
       "0     신고  3347\n",
       "1     학교  2152\n",
       "2     등록  1920\n",
       "3     발급  1827\n",
       "4     절차  1679\n",
       "..   ...   ...\n",
       "495  교도소   110\n",
       "496   협의   110\n",
       "497   특별   110\n",
       "498   수행   110\n",
       "499   정의   109\n",
       "\n",
       "[500 rows x 2 columns]"
      ]
     },
     "execution_count": 94,
     "metadata": {},
     "output_type": "execute_result"
    }
   ],
   "source": [
    "tf_vocab_table = pd.DataFrame(list(zip(tf_vocab, tf_scores))[:500])\n",
    "tf_vocab_table"
   ]
  },
  {
   "cell_type": "code",
   "execution_count": 95,
   "metadata": {},
   "outputs": [
    {
     "data": {
      "text/html": [
       "<div>\n",
       "<style scoped>\n",
       "    .dataframe tbody tr th:only-of-type {\n",
       "        vertical-align: middle;\n",
       "    }\n",
       "\n",
       "    .dataframe tbody tr th {\n",
       "        vertical-align: top;\n",
       "    }\n",
       "\n",
       "    .dataframe thead th {\n",
       "        text-align: right;\n",
       "    }\n",
       "</style>\n",
       "<table border=\"1\" class=\"dataframe\">\n",
       "  <thead>\n",
       "    <tr style=\"text-align: right;\">\n",
       "      <th></th>\n",
       "      <th>단어</th>\n",
       "      <th>빈도수</th>\n",
       "    </tr>\n",
       "  </thead>\n",
       "  <tbody>\n",
       "    <tr>\n",
       "      <th>0</th>\n",
       "      <td>신고</td>\n",
       "      <td>3347</td>\n",
       "    </tr>\n",
       "    <tr>\n",
       "      <th>1</th>\n",
       "      <td>학교</td>\n",
       "      <td>2152</td>\n",
       "    </tr>\n",
       "    <tr>\n",
       "      <th>2</th>\n",
       "      <td>등록</td>\n",
       "      <td>1920</td>\n",
       "    </tr>\n",
       "    <tr>\n",
       "      <th>3</th>\n",
       "      <td>발급</td>\n",
       "      <td>1827</td>\n",
       "    </tr>\n",
       "    <tr>\n",
       "      <th>4</th>\n",
       "      <td>절차</td>\n",
       "      <td>1679</td>\n",
       "    </tr>\n",
       "    <tr>\n",
       "      <th>...</th>\n",
       "      <td>...</td>\n",
       "      <td>...</td>\n",
       "    </tr>\n",
       "    <tr>\n",
       "      <th>495</th>\n",
       "      <td>교도소</td>\n",
       "      <td>110</td>\n",
       "    </tr>\n",
       "    <tr>\n",
       "      <th>496</th>\n",
       "      <td>협의</td>\n",
       "      <td>110</td>\n",
       "    </tr>\n",
       "    <tr>\n",
       "      <th>497</th>\n",
       "      <td>특별</td>\n",
       "      <td>110</td>\n",
       "    </tr>\n",
       "    <tr>\n",
       "      <th>498</th>\n",
       "      <td>수행</td>\n",
       "      <td>110</td>\n",
       "    </tr>\n",
       "    <tr>\n",
       "      <th>499</th>\n",
       "      <td>정의</td>\n",
       "      <td>109</td>\n",
       "    </tr>\n",
       "  </tbody>\n",
       "</table>\n",
       "<p>500 rows × 2 columns</p>\n",
       "</div>"
      ],
      "text/plain": [
       "      단어   빈도수\n",
       "0     신고  3347\n",
       "1     학교  2152\n",
       "2     등록  1920\n",
       "3     발급  1827\n",
       "4     절차  1679\n",
       "..   ...   ...\n",
       "495  교도소   110\n",
       "496   협의   110\n",
       "497   특별   110\n",
       "498   수행   110\n",
       "499   정의   109\n",
       "\n",
       "[500 rows x 2 columns]"
      ]
     },
     "execution_count": 95,
     "metadata": {},
     "output_type": "execute_result"
    }
   ],
   "source": [
    "tf_vocab_table.columns = ['단어','빈도수']\n",
    "tf_vocab_table"
   ]
  },
  {
   "cell_type": "code",
   "execution_count": 107,
   "metadata": {},
   "outputs": [],
   "source": [
    "tf_vocab_table.to_excel('C://Users//user//python//용인시청//wordcloud//전체_단어_빈도수.xlsx',index=None)"
   ]
  },
  {
   "cell_type": "code",
   "execution_count": 100,
   "metadata": {},
   "outputs": [],
   "source": [
    "tf_vector_environ = tf_vectorizer.fit_transform(data[data['분야명']=='행정/자치/안전']['질문_token'].astype(str))"
   ]
  },
  {
   "cell_type": "code",
   "execution_count": 101,
   "metadata": {},
   "outputs": [],
   "source": [
    "tf_scores_environ = tf_vector_environ.toarray().sum(axis=0)\n",
    "tf_idx_environ = np.argsort(-tf_scores_environ)\n",
    "tf_scores_environ = tf_scores_environ[tf_idx_environ]\n",
    "tf_vocab_environ = np.array(tf_vectorizer.get_feature_names())[tf_idx_environ]"
   ]
  },
  {
   "cell_type": "code",
   "execution_count": 102,
   "metadata": {},
   "outputs": [
    {
     "name": "stdout",
     "output_type": "stream",
     "text": [
      "[('신고', 1913), ('발급', 956), ('설치', 720), ('등록', 656), ('지원', 654), ('절차', 577), ('차량', 576), ('처리', 559), ('사업', 555), ('시설', 518), ('도로', 517), ('관리', 451), ('아파트', 447), ('공사', 424), ('여권', 410), ('불법', 403), ('주차', 397), ('허가', 375), ('주택', 361), ('단속', 360), ('안전', 348), ('주민', 346), ('자동차', 346), ('서류', 332), ('코로나', 310), ('위반', 292), ('안내', 290), ('증명서', 278), ('불편', 273), ('건축물', 272), ('버스', 266), ('위험', 261), ('사고', 258), ('공원', 244), ('사진', 236), ('센터', 235), ('가족', 234), ('장애인', 233), ('주민등록', 223), ('구역', 220), ('쓰레기', 217), ('검사', 216), ('건물', 208), ('과태료', 208), ('전입', 207), ('부과', 205), ('아이', 203), ('나오다', 199), ('주차장', 198), ('시민', 198), ('본인', 197), ('영업', 193), ('지정', 190), ('납부', 189), ('기관', 186), ('피해', 185), ('토지', 182), ('건축', 179), ('관계', 173), ('번호', 170), ('서비스', 170), ('구비서류', 167), ('계획', 166), ('보호', 163), ('업체', 160), ('일반', 159), ('주민등록증', 158), ('소음', 156), ('개발', 155), ('교육', 155), ('거주', 154), ('금지', 154), ('전입 신고', 152), ('자격', 149), ('공개', 144), ('제한', 144), ('자전거', 142), ('환경', 141), ('주정차', 140), ('폐기물', 139), ('위치', 137), ('세대', 137), ('식품', 136), ('인감', 136), ('거리', 135), ('마스크', 134), ('마을', 133), ('공동', 133), ('부동산', 133), ('배출', 132), ('운행', 132), ('방문', 131), ('어린이', 128), ('무단', 127), ('신규', 126), ('지원 사업', 123), ('제도', 123), ('건설', 122), ('다시', 121), ('복지', 120), ('기초', 120), ('계약', 120), ('여권 발급', 118), ('폐업', 118), ('판매', 117), ('초본', 116), ('동물', 116), ('방치', 116), ('도시', 115), ('지급', 114), ('처벌', 114), ('지방세', 113), ('면허', 113), ('금액', 113), ('정비', 112), ('도서관', 112), ('시청', 112), ('화장실', 112), ('분실', 112), ('교부', 112), ('인도', 111), ('카드', 111), ('방지', 110), ('바로', 110), ('착용', 110), ('보수', 109), ('전화', 108), ('자녀', 108), ('사망', 108), ('조사', 108), ('시행', 108), ('교통', 107), ('증명서 발급', 107), ('담배', 106), ('신고 절차', 106), ('제출', 104), ('가족 관계', 104), ('촬영', 104), ('공무원', 104), ('소유', 103), ('주소', 103), ('안성', 103), ('파손', 103), ('접종', 102), ('청구', 102), ('해결', 101), ('수거', 100), ('운동', 98), ('번호판', 97), ('판매업', 97), ('아동', 95), ('통행', 95), ('결과', 94), ('전기', 94), ('타다', 94), ('수수료', 93), ('식별', 93), ('횡단보도', 92), ('전용', 92), ('공간', 92), ('현장', 92), ('예방', 91), ('음식점', 90), ('국민', 90), ('안성시', 90), ('철거', 90), ('충주시', 90), ('방역', 90), ('참여', 89), ('점검', 88), ('건강', 87), ('보험', 87), ('나무', 86), ('기계', 86), ('대형', 86), ('공동 주택', 86), ('심하다', 86), ('가로등', 85), ('가입', 85), ('대상자', 85), ('대구', 85), ('의무', 84), ('구청', 84), ('외국인', 84), ('요구', 83), ('법인', 83), ('운전', 83), ('청년', 83), ('오토바이', 83), ('청소년', 82), ('인터넷', 81), ('식별 처리', 80), ('경로', 80), ('주민등록증 발급', 80), ('사고 충주시', 79), ('신고 신고', 79), ('사회', 78), ('임대', 78), ('대표', 78), ('지방', 78)]\n"
     ]
    }
   ],
   "source": [
    "print(list(zip(tf_vocab_environ, tf_scores_environ))[:200])"
   ]
  },
  {
   "cell_type": "code",
   "execution_count": 103,
   "metadata": {},
   "outputs": [
    {
     "data": {
      "text/html": [
       "<div>\n",
       "<style scoped>\n",
       "    .dataframe tbody tr th:only-of-type {\n",
       "        vertical-align: middle;\n",
       "    }\n",
       "\n",
       "    .dataframe tbody tr th {\n",
       "        vertical-align: top;\n",
       "    }\n",
       "\n",
       "    .dataframe thead th {\n",
       "        text-align: right;\n",
       "    }\n",
       "</style>\n",
       "<table border=\"1\" class=\"dataframe\">\n",
       "  <thead>\n",
       "    <tr style=\"text-align: right;\">\n",
       "      <th></th>\n",
       "      <th>단어</th>\n",
       "      <th>빈도수</th>\n",
       "    </tr>\n",
       "  </thead>\n",
       "  <tbody>\n",
       "    <tr>\n",
       "      <th>0</th>\n",
       "      <td>신고</td>\n",
       "      <td>1913</td>\n",
       "    </tr>\n",
       "    <tr>\n",
       "      <th>1</th>\n",
       "      <td>발급</td>\n",
       "      <td>956</td>\n",
       "    </tr>\n",
       "    <tr>\n",
       "      <th>2</th>\n",
       "      <td>설치</td>\n",
       "      <td>720</td>\n",
       "    </tr>\n",
       "    <tr>\n",
       "      <th>3</th>\n",
       "      <td>등록</td>\n",
       "      <td>656</td>\n",
       "    </tr>\n",
       "    <tr>\n",
       "      <th>4</th>\n",
       "      <td>지원</td>\n",
       "      <td>654</td>\n",
       "    </tr>\n",
       "    <tr>\n",
       "      <th>...</th>\n",
       "      <td>...</td>\n",
       "      <td>...</td>\n",
       "    </tr>\n",
       "    <tr>\n",
       "      <th>495</th>\n",
       "      <td>위원회</td>\n",
       "      <td>44</td>\n",
       "    </tr>\n",
       "    <tr>\n",
       "      <th>496</th>\n",
       "      <td>제조</td>\n",
       "      <td>44</td>\n",
       "    </tr>\n",
       "    <tr>\n",
       "      <th>497</th>\n",
       "      <td>예정</td>\n",
       "      <td>44</td>\n",
       "    </tr>\n",
       "    <tr>\n",
       "      <th>498</th>\n",
       "      <td>준비</td>\n",
       "      <td>44</td>\n",
       "    </tr>\n",
       "    <tr>\n",
       "      <th>499</th>\n",
       "      <td>항상</td>\n",
       "      <td>44</td>\n",
       "    </tr>\n",
       "  </tbody>\n",
       "</table>\n",
       "<p>500 rows × 2 columns</p>\n",
       "</div>"
      ],
      "text/plain": [
       "      단어   빈도수\n",
       "0     신고  1913\n",
       "1     발급   956\n",
       "2     설치   720\n",
       "3     등록   656\n",
       "4     지원   654\n",
       "..   ...   ...\n",
       "495  위원회    44\n",
       "496   제조    44\n",
       "497   예정    44\n",
       "498   준비    44\n",
       "499   항상    44\n",
       "\n",
       "[500 rows x 2 columns]"
      ]
     },
     "execution_count": 103,
     "metadata": {},
     "output_type": "execute_result"
    }
   ],
   "source": [
    "tf_vocab_environ_table = pd.DataFrame(list(zip(tf_vocab_environ, tf_scores_environ))[:500])\n",
    "tf_vocab_environ_table.columns = ['단어','빈도수']\n",
    "tf_vocab_environ_table"
   ]
  },
  {
   "cell_type": "code",
   "execution_count": 106,
   "metadata": {},
   "outputs": [],
   "source": [
    "tf_vocab_environ_table.to_excel('C://users//user//python//용인시청//wordcloud//행정_자치_안전_단어_빈도수.xlsx',index=None)"
   ]
  },
  {
   "cell_type": "code",
   "execution_count": 115,
   "metadata": {},
   "outputs": [],
   "source": [
    "tf_vector_law = tf_vectorizer.fit_transform(data[data['분야명']=='국방/보훈/외교/통일']['질문_token'].astype(str))\n",
    "tf_scores_law = tf_vector_law.toarray().sum(axis=0)\n",
    "tf_idx_law = np.argsort(-tf_scores_law)\n",
    "tf_scores_law = tf_scores_law[tf_idx_law]\n",
    "tf_vocab_law = np.array(tf_vectorizer.get_feature_names())[tf_idx_law]\n",
    "\n",
    "tf_vocab_law_table = pd.DataFrame(list(zip(tf_vocab_law, tf_scores_law))[:500])\n",
    "tf_vocab_law_table.columns = ['단어','빈도수']\n",
    "tf_vocab_law_table\n",
    "tf_vocab_law_table.to_excel('C://users//user//python//용인시청//wordcloud//법제_사법.xlsx',index=None)"
   ]
  },
  {
   "cell_type": "code",
   "execution_count": 121,
   "metadata": {},
   "outputs": [],
   "source": [
    "tf_vector_food = tf_vectorizer.fit_transform(data[data['분야명']=='식품의약품']['질문_token'].astype(str))\n",
    "tf_scores_food = tf_vector_food.toarray().sum(axis=0)\n",
    "tf_idx_food = np.argsort(-tf_scores_food)\n",
    "tf_scores_food = tf_scores_food[tf_idx_food]\n",
    "tf_vocab_food = np.array(tf_vectorizer.get_feature_names())[tf_idx_food]\n",
    "\n",
    "tf_vocab_food_table = pd.DataFrame(list(zip(tf_vocab_food, tf_scores_food))[:200])\n",
    "tf_vocab_food_table.columns = ['단어','빈도수']\n",
    "tf_vocab_food_table\n",
    "tf_vocab_food_table.to_excel('C://users//user//python//용인시청//wordcloud//식품의약품.xlsx',index=None)"
   ]
  },
  {
   "cell_type": "code",
   "execution_count": null,
   "metadata": {},
   "outputs": [],
   "source": []
  }
 ],
 "metadata": {
  "kernelspec": {
   "display_name": "Python 3",
   "language": "python",
   "name": "python3"
  },
  "language_info": {
   "codemirror_mode": {
    "name": "ipython",
    "version": 3
   },
   "file_extension": ".py",
   "mimetype": "text/x-python",
   "name": "python",
   "nbconvert_exporter": "python",
   "pygments_lexer": "ipython3",
   "version": "3.7.6"
  }
 },
 "nbformat": 4,
 "nbformat_minor": 5
}
